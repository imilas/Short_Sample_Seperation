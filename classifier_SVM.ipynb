{
 "cells": [
  {
   "cell_type": "code",
   "execution_count": 7,
   "metadata": {},
   "outputs": [],
   "source": [
    "#load the data\n",
    "import numpy as np\n",
    "import pandas as pd\n",
    "import random\n",
    "import mir_utils as miru\n",
    "import sounddevice as sd\n",
    "import matplotlib.pyplot as plt\n",
    "\n",
    "from sklearn.neural_network import MLPClassifier\n",
    "from sklearn.neighbors import KNeighborsClassifier\n",
    "from sklearn.svm import SVC\n",
    "from sklearn.gaussian_process import GaussianProcessClassifier\n",
    "from sklearn.gaussian_process.kernels import RBF\n",
    "from sklearn.tree import DecisionTreeClassifier\n",
    "from sklearn.ensemble import RandomForestClassifier, AdaBoostClassifier\n",
    "from sklearn.naive_bayes import GaussianNB\n",
    "from sklearn.discriminant_analysis import QuadraticDiscriminantAnalysis\n",
    "\n",
    "testFraction=0.4"
   ]
  },
  {
   "cell_type": "code",
   "execution_count": 18,
   "metadata": {
    "scrolled": true
   },
   "outputs": [
    {
     "name": "stdout",
     "output_type": "stream",
     "text": [
      "1\n"
     ]
    }
   ],
   "source": [
    "from sklearn.model_selection import train_test_split\n",
    "from sklearn import preprocessing\n",
    "\n",
    "df=pd.read_csv(\"feat_frequency_bins.csv\")\n",
    "#preperocessing\n",
    "le = preprocessing.LabelEncoder()\n",
    "le.fit(df.label)\n",
    "le.transform(df.label)\n",
    "df.label=le.transform(df.label)\n",
    "print(np.sum(df.dtypes!=np.float64)) #make sure this is 1, our label column is string\n",
    "#df.label=le.inverse_transform(df.label) #inverse of transform if u need it\n",
    "\n",
    "X=df.loc[:,df.columns!=\"label\"]\n",
    "y=df[\"label\"]\n"
   ]
  },
  {
   "cell_type": "code",
   "execution_count": 19,
   "metadata": {},
   "outputs": [
    {
     "name": "stdout",
     "output_type": "stream",
     "text": [
      "[[ 78   2   5  21   0]\n",
      " [  3 231   4  21  12]\n",
      " [  0   3  18  15   1]\n",
      " [ 15  20   6 253   4]\n",
      " [  3  35   1  14  13]]\n",
      "              precision    recall  f1-score   support\n",
      "\n",
      "  hihat_open       0.79      0.74      0.76       106\n",
      "        kick       0.79      0.85      0.82       271\n",
      "         rim       0.53      0.49      0.51        37\n",
      "       snare       0.78      0.85      0.81       298\n",
      "    tom_high       0.43      0.20      0.27        66\n",
      "\n",
      "    accuracy                           0.76       778\n",
      "   macro avg       0.67      0.62      0.63       778\n",
      "weighted avg       0.74      0.76      0.75       778\n",
      "\n"
     ]
    }
   ],
   "source": [
    "\n",
    "X_train, X_test, y_train, y_test = train_test_split(X, y, test_size=testFraction, random_state=42)\n",
    "classifier =   RandomForestClassifier(max_depth=10, n_estimators=20, max_features=2)\n",
    "classifier.fit(X_train, y_train,)\n",
    "\n",
    "from sklearn.metrics import classification_report, confusion_matrix\n",
    "\n",
    "y_pred = classifier.predict(X_test)\n",
    "\n",
    "print(confusion_matrix(y_test,y_pred))\n",
    "print(classification_report(le.inverse_transform(y_test),le.inverse_transform(y_pred)))"
   ]
  },
  {
   "cell_type": "code",
   "execution_count": null,
   "metadata": {},
   "outputs": [],
   "source": []
  }
 ],
 "metadata": {
  "kernelspec": {
   "display_name": "'Python Interactive'",
   "language": "python",
   "name": "a19cf83a-14f6-4d88-a40b-1caf301bb74c"
  },
  "language_info": {
   "codemirror_mode": {
    "name": "ipython",
    "version": 3
   },
   "file_extension": ".py",
   "mimetype": "text/x-python",
   "name": "python",
   "nbconvert_exporter": "python",
   "pygments_lexer": "ipython3",
   "version": "3.6.8"
  },
  "varInspector": {
   "cols": {
    "lenName": 16,
    "lenType": 16,
    "lenVar": 40
   },
   "kernels_config": {
    "python": {
     "delete_cmd_postfix": "",
     "delete_cmd_prefix": "del ",
     "library": "var_list.py",
     "varRefreshCmd": "print(var_dic_list())"
    },
    "r": {
     "delete_cmd_postfix": ") ",
     "delete_cmd_prefix": "rm(",
     "library": "var_list.r",
     "varRefreshCmd": "cat(var_dic_list()) "
    }
   },
   "types_to_exclude": [
    "module",
    "function",
    "builtin_function_or_method",
    "instance",
    "_Feature"
   ],
   "window_display": false
  }
 },
 "nbformat": 4,
 "nbformat_minor": 2
}
